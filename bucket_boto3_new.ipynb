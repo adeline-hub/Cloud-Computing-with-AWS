{
 "cells": [
  {
   "cell_type": "markdown",
   "metadata": {},
   "source": [
    "# S3 Bucket Boto3 "
   ]
  },
  {
   "cell_type": "code",
   "execution_count": 1,
   "metadata": {
    "scrolled": true
   },
   "outputs": [
    {
     "name": "stdout",
     "output_type": "stream",
     "text": [
      "Requirement already satisfied: boto3 in /home/norbert/anaconda3/lib/python3.7/site-packages (1.16.4)\r\n",
      "Requirement already satisfied: botocore<1.20.0,>=1.19.4 in /home/norbert/anaconda3/lib/python3.7/site-packages (from boto3) (1.19.4)\r\n",
      "Requirement already satisfied: jmespath<1.0.0,>=0.7.1 in /home/norbert/anaconda3/lib/python3.7/site-packages (from boto3) (0.10.0)\r\n",
      "Requirement already satisfied: s3transfer<0.4.0,>=0.3.0 in /home/norbert/anaconda3/lib/python3.7/site-packages (from boto3) (0.3.3)\r\n",
      "Requirement already satisfied: python-dateutil<3.0.0,>=2.1 in /home/norbert/anaconda3/lib/python3.7/site-packages (from botocore<1.20.0,>=1.19.4->boto3) (2.8.1)\r\n",
      "Requirement already satisfied: urllib3<1.26,>=1.25.4; python_version != \"3.4\" in /home/norbert/anaconda3/lib/python3.7/site-packages (from botocore<1.20.0,>=1.19.4->boto3) (1.25.11)\r\n",
      "Requirement already satisfied: six>=1.5 in /home/norbert/anaconda3/lib/python3.7/site-packages (from python-dateutil<3.0.0,>=2.1->botocore<1.20.0,>=1.19.4->boto3) (1.15.0)\r\n"
     ]
    }
   ],
   "source": [
    "!pip install boto3\n"
   ]
  },
  {
   "cell_type": "code",
   "execution_count": 2,
   "metadata": {},
   "outputs": [],
   "source": [
    "import boto3"
   ]
  },
  {
   "cell_type": "code",
   "execution_count": 3,
   "metadata": {},
   "outputs": [
    {
     "name": "stdout",
     "output_type": "stream",
     "text": [
      "{'ResponseMetadata': {'RequestId': 'BCD6E697C0983F87', 'HostId': 'kcO8ha59zcIlBn28kG+GBnxlNTvbM/jP3DarBeUIR3LdBWwgBlLTy0IIgoEyL2z0tDeoezZ1Wd4=', 'HTTPStatusCode': 200, 'HTTPHeaders': {'x-amz-id-2': 'kcO8ha59zcIlBn28kG+GBnxlNTvbM/jP3DarBeUIR3LdBWwgBlLTy0IIgoEyL2z0tDeoezZ1Wd4=', 'x-amz-request-id': 'BCD6E697C0983F87', 'date': 'Wed, 28 Oct 2020 13:55:26 GMT', 'location': '/gim-3', 'content-length': '0', 'server': 'AmazonS3'}, 'RetryAttempts': 0}, 'Location': '/gim-3'}\n"
     ]
    }
   ],
   "source": [
    "# Create boto3 client to S3\n",
    "\n",
    "s3 = boto3.client('s3', region_name='us-east-1', \n",
    "                         aws_access_key_id='xxxxxx', \n",
    "                         aws_secret_access_key='xxxxxx')\n",
    "\n",
    "# Create a buckets\n",
    "response_staging = s3.create_bucket(Bucket='gim-3')\n",
    "# Print out the response\n",
    "print(response_staging)"
   ]
  },
  {
   "cell_type": "code",
   "execution_count": 4,
   "metadata": {
    "scrolled": true
   },
   "outputs": [
    {
     "name": "stdout",
     "output_type": "stream",
     "text": [
      "cseng-1374-tuxedo\n",
      "cseng-806\n",
      "gim-3\n",
      "igoekce-1374\n",
      "igoekce-806\n",
      "igoekce-dojo\n",
      "jgodley-1443\n",
      "jpoliak-quest806\n",
      "jpoliak1374\n",
      "jpoliak1443\n",
      "julian-yasin-julia\n",
      "mpensel-boto\n",
      "mpensel-test1\n",
      "njeno-q806\n",
      "peckert-1374\n",
      "peckert-1443\n",
      "peckert-806\n",
      "sagemaker-eu-central-1-310542687409\n",
      "sagemaker-studio-310542687409-x5ak082y3c\n",
      "sharston-q1374\n",
      "wildcodeschool-s3-challenge-bucket\n",
      "y-j-j-html\n",
      "ye-1374\n"
     ]
    }
   ],
   "source": [
    "# Get the list_buckets response\n",
    "response = s3.list_buckets()\n",
    "\n",
    "# Iterate over Buckets from .list_buckets() response\n",
    "for bucket in response['Buckets']:\n",
    "  \n",
    "    # Print the Name for each bucket\n",
    "    print(bucket['Name'])\n",
    "  \n"
   ]
  },
  {
   "cell_type": "code",
   "execution_count": 5,
   "metadata": {
    "scrolled": true
   },
   "outputs": [],
   "source": [
    "# Upload 3 files\n",
    "s3.upload_file(Bucket='gim-3', Filename='/home/norbert/Downloads/disaster_tweets.csv', Key='data/disaster_tweets.csv')\n",
    "s3.upload_file(Bucket='gim-3', Filename='/home/norbert/Downloads/pictures.html', Key='data/pictures.html')\n",
    "s3.upload_file(Bucket='gim-3', Filename='/home/norbert/Downloads/metadata.readme', Key='data/metadata.readme')"
   ]
  },
  {
   "cell_type": "code",
   "execution_count": 6,
   "metadata": {
    "scrolled": false
   },
   "outputs": [],
   "source": [
    "# ich habe keine Idee, weshalb die For Schleife nicht funktionert!!!!!\n",
    "\n",
    "\n",
    "#for obj in gim-3.objects.all():\n",
    "#    print(obj.key)\n",
    "    "
   ]
  },
  {
   "cell_type": "code",
   "execution_count": 7,
   "metadata": {
    "scrolled": true
   },
   "outputs": [
    {
     "name": "stdout",
     "output_type": "stream",
     "text": [
      "{'ResponseMetadata': {'RequestId': '14D944575AFAC50B', 'HostId': '7eKwXEBWKyq0i22M/5nNrixdRyAhUvue7hXZZE16jqlmJrJAxzhS1GO0Ur3TULbrCqCkxMlVrj4=', 'HTTPStatusCode': 200, 'HTTPHeaders': {'x-amz-id-2': '7eKwXEBWKyq0i22M/5nNrixdRyAhUvue7hXZZE16jqlmJrJAxzhS1GO0Ur3TULbrCqCkxMlVrj4=', 'x-amz-request-id': '14D944575AFAC50B', 'date': 'Wed, 28 Oct 2020 13:55:28 GMT', 'last-modified': 'Wed, 28 Oct 2020 13:55:28 GMT', 'etag': '\"80cdf4c5a64af9304862e7690d3e4971\"', 'accept-ranges': 'bytes', 'content-type': 'binary/octet-stream', 'content-length': '38678', 'server': 'AmazonS3'}, 'RetryAttempts': 0}, 'AcceptRanges': 'bytes', 'LastModified': datetime.datetime(2020, 10, 28, 13, 55, 28, tzinfo=tzutc()), 'ContentLength': 38678, 'ETag': '\"80cdf4c5a64af9304862e7690d3e4971\"', 'ContentType': 'binary/octet-stream', 'Metadata': {}}\n"
     ]
    }
   ],
   "source": [
    "response = s3.head_object(Bucket='gim-3', \n",
    "                       Key='data/metadata.readme')\n",
    "print(response)"
   ]
  },
  {
   "cell_type": "code",
   "execution_count": 9,
   "metadata": {
    "scrolled": true
   },
   "outputs": [
    {
     "name": "stdout",
     "output_type": "stream",
     "text": [
      "Deleting data/disaster_tweets.csv\n",
      "Deleting data/metadata.readme\n",
      "Deleting data/pictures.html\n"
     ]
    }
   ],
   "source": [
    "BUCKET = 'gim-3'\n",
    "PREFIX = 'data'\n",
    "\n",
    "response = s3.list_objects_v2(Bucket=BUCKET, Prefix=PREFIX)  \n",
    "\n",
    "for object in response['Contents']:\n",
    "    print('Deleting', object['Key'])\n",
    "    s3.delete_object(Bucket=BUCKET, Key=object['Key'])\n",
    "    \n",
    "  "
   ]
  },
  {
   "cell_type": "code",
   "execution_count": null,
   "metadata": {},
   "outputs": [],
   "source": []
  },
  {
   "cell_type": "code",
   "execution_count": null,
   "metadata": {},
   "outputs": [],
   "source": []
  }
 ],
 "metadata": {
  "kernelspec": {
   "display_name": "Python 3",
   "language": "python",
   "name": "python3"
  },
  "language_info": {
   "codemirror_mode": {
    "name": "ipython",
    "version": 3
   },
   "file_extension": ".py",
   "mimetype": "text/x-python",
   "name": "python",
   "nbconvert_exporter": "python",
   "pygments_lexer": "ipython3",
   "version": "3.7.9"
  }
 },
 "nbformat": 4,
 "nbformat_minor": 4
}
