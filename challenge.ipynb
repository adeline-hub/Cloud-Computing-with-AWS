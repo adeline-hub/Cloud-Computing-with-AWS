{
  "nbformat": 4,
  "nbformat_minor": 0,
  "metadata": {
    "kernelspec": {
      "display_name": "Python 3",
      "language": "python",
      "name": "python3"
    },
    "language_info": {
      "codemirror_mode": {
        "name": "ipython",
        "version": 3
      },
      "file_extension": ".py",
      "mimetype": "text/x-python",
      "name": "python",
      "nbconvert_exporter": "python",
      "pygments_lexer": "ipython3",
      "version": "3.7.6"
    },
    "colab": {
      "name": "s3_challenge.ipynb",
      "provenance": [],
      "include_colab_link": true
    }
  },
  "cells": [
    {
      "cell_type": "markdown",
      "metadata": {
        "id": "view-in-github",
        "colab_type": "text"
      },
      "source": [
        "<a href=\"https://colab.research.google.com/github/NJaida/AWS-Quests/blob/main/s3_challenge.ipynb\" target=\"_parent\"><img src=\"https://colab.research.google.com/assets/colab-badge.svg\" alt=\"Open In Colab\"/></a>"
      ]
    },
    {
      "cell_type": "markdown",
      "metadata": {
        "id": "O6Jv1SrxeACg"
      },
      "source": [
        "# S3 Challenge\n",
        "Within this Challenge, we're going to see how well you've learned how to use Boto3!\n",
        "\n",
        "Particularly, your tasks are going to be the following:\n",
        "- List all the existing buckets\n",
        "- Create a brand new bucket with the correct specifications\n",
        "- Add tags to the newly-created bucket to account for hypothetical cost tagging\n",
        "- Change the policy to allow public access\n",
        "- Add several images to your bucket\n",
        "- Create a folder and move those images to the bucket\n",
        "- Delete the folder with all of the images\n",
        "- Restore the current bucket to the version that only has your images in the correct folder\n",
        "- Copy images from another bucket to your bucket\n",
        "- Delete the bucket"
      ]
    },
    {
      "cell_type": "code",
      "metadata": {
        "id": "wSTQ-45yeACi"
      },
      "source": [
        "# List all of the existing buckets that were previously created\n",
        "\n",
        "# INSERT CODE HERE"
      ],
      "execution_count": null,
      "outputs": []
    },
    {
      "cell_type": "code",
      "metadata": {
        "id": "5sR6i6sneACq"
      },
      "source": [
        "# Create a brand new bucket with the correct specifications (i.e. proper region and proper naming convention)\n",
        "# IMPORTANT: Make sure that the bucket allows for versioning! This will be used later on...\n",
        "\n",
        "# INSERT CODE HERE"
      ],
      "execution_count": null,
      "outputs": []
    },
    {
      "cell_type": "code",
      "metadata": {
        "id": "fKs6MsdHeACv"
      },
      "source": [
        "# Add a tag to the bucket. For the key and value, call them \"cost_tagging_key\" and \"12345\", respectively\n",
        "\n",
        "# INSERT CODE HERE"
      ],
      "execution_count": null,
      "outputs": []
    },
    {
      "cell_type": "code",
      "metadata": {
        "id": "vTxqWxT8eAC0"
      },
      "source": [
        "# Change the bucket to be able to be viewable by the public\n",
        "\n",
        "# INSERT CODE HERE"
      ],
      "execution_count": null,
      "outputs": []
    },
    {
      "cell_type": "code",
      "metadata": {
        "id": "uxm_Cz9feAC4"
      },
      "source": [
        "# Add a few images to your bucket.\n",
        "# First, download the folder of images to your local computer: https://www.kaggle.com/c/dogs-vs-cats/data?select=test1.zip\n",
        "# Then add only the first 15 images to your bucket\n",
        "\n",
        "# INSERT CODE HERE"
      ],
      "execution_count": null,
      "outputs": []
    },
    {
      "cell_type": "code",
      "metadata": {
        "id": "qsR1ZsdleAC7"
      },
      "source": [
        "# Create a new folder within your bucket and move those images into that folder\n",
        "\n",
        "# INSERT CODE HERE"
      ],
      "execution_count": null,
      "outputs": []
    },
    {
      "cell_type": "code",
      "metadata": {
        "id": "YzIEhlkfeAC-"
      },
      "source": [
        "# Delete the folder with all of the images that you just created\n",
        "\n",
        "# INSERT CODE HERE"
      ],
      "execution_count": null,
      "outputs": []
    },
    {
      "cell_type": "code",
      "metadata": {
        "id": "GF7TITHIeADB"
      },
      "source": [
        "# Using the versioning, restore your current bucket to the version that still has your images!\n",
        "\n",
        "# INSERT CODE HERE"
      ],
      "execution_count": null,
      "outputs": []
    },
    {
      "cell_type": "code",
      "metadata": {
        "id": "xzGV__DWeADE"
      },
      "source": [
        "# Copy the folder of images from another S3 bucket into your own personal bucket\n",
        "# The bucket can be found here: https://s3.console.aws.amazon.com/s3/buckets/wildcodeschool-s3-challenge-bucket/?region=eu-central-1\n",
        "\n",
        "# INSERT CODE HERE"
      ],
      "execution_count": null,
      "outputs": []
    },
    {
      "cell_type": "code",
      "metadata": {
        "id": "wRhw1V0neADH"
      },
      "source": [
        "# Delete the bucket completely\n",
        "# Please verify (using your web browser) that this is actually the case!!\n",
        "\n",
        "# INSERT CODE HERE"
      ],
      "execution_count": null,
      "outputs": []
    }
  ]
}
